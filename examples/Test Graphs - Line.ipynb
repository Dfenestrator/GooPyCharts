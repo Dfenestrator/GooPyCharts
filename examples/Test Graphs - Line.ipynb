{
 "cells": [
  {
   "cell_type": "markdown",
   "metadata": {},
   "source": [
    "# GooPyCharts Demo Notebook\n",
    "## Import GooPyCharts\n",
    "To cut down on syntax, import figure directly."
   ]
  },
  {
   "cell_type": "code",
   "execution_count": 1,
   "metadata": {
    "collapsed": true
   },
   "outputs": [],
   "source": [
    "from gpcharts import figure"
   ]
  },
  {
   "cell_type": "markdown",
   "metadata": {},
   "source": [
    "## Simple Line Graph\n",
    "Same graph as described in the readme."
   ]
  },
  {
   "cell_type": "code",
   "execution_count": 2,
   "metadata": {
    "collapsed": false,
    "scrolled": true
   },
   "outputs": [
    {
     "data": {
      "text/html": [
       "\n",
       "<html>\n",
       "<head>\n",
       "    <script src=\"https://code.jquery.com/jquery-1.10.2.js\"></script>\n",
       "    <script type=\"text/javascript\">\n",
       "    $.getScript( \"https://www.gstatic.com/charts/loader.js\", function() {\n",
       "      if ((typeof google === 'undefined') || (typeof google.visualization === 'undefined')) \n",
       "      {\n",
       "         google.charts.load('current', {'packages':['corechart']});\n",
       "      }\n",
       "\n",
       "      google.charts.setOnLoadCallback(drawChart);\n",
       "    });\n",
       "    \n",
       "    function drawChart() {\n",
       "        var dataArr = [['', 'data1'], [1, 8], [2, 7], [3, 6], [4, 5], [5, 4]];\n",
       "        var grTitle = 'Fig1';\n",
       "        var height = 600;\n",
       "        var width = 1000;\n",
       "        var logScaleFlag = false;\n",
       "        var vAxisTitle = '';\n",
       "        var vAxisOpt;\n",
       "        if(logScaleFlag)\n",
       "        {\n",
       "            vAxisOpt = { title: vAxisTitle, logScale: true, format: 'scientific'};\n",
       "        }\n",
       "        else\n",
       "        {\n",
       "            vAxisOpt = { title: vAxisTitle };\n",
       "        }\n",
       "\n",
       "        var options = {\n",
       "            width: width,\n",
       "            height: height,\n",
       "            explorer: { actions: ['dragToZoom', 'rightClickToReset'], maxZoomIn: 0.01 },\n",
       "            curveType: 'function',\n",
       "            title: grTitle,\n",
       "            titleTextStyle: { fontSize: 18, bold: true },\n",
       "            hAxis: { title: dataArr[0][0] },\n",
       "            vAxis: vAxisOpt,\n",
       "            \n",
       "        };\n",
       "\n",
       "        var data = new google.visualization.DataTable();\n",
       "        var csvOut = \"data:text/csv;charset=utf-8\";\n",
       "        // Add column headers\n",
       "        for (var j = 0; j < dataArr[0].length; j++)\n",
       "        {\n",
       "            data.addColumn('number',dataArr[0][j]);\n",
       "            csvOut += ',' + dataArr[0][j];\n",
       "        }\n",
       "        csvOut += '\\n';\n",
       "\n",
       "        // Add columns\n",
       "        for (var i = 1; i < dataArr.length; i++)\n",
       "        {\n",
       "            data.addRow(dataArr[i]);\n",
       "            csvOut += dataArr[i].join(\",\") + '\\n';\n",
       "        }\n",
       "\n",
       "        var chart = new google.visualization.LineChart(document.getElementById('chart_div_2'));\n",
       "\n",
       "        chart.draw(data, options);\n",
       "        document.getElementById('pic_div_2').innerHTML = '<a href=\"' + chart.getImageURI() + '\" download=\"'+grTitle+'.png\">Download Figure</a>'\n",
       "        document.getElementById('csvFileDl_2').innerHTML = '<a href=\"' + encodeURI(csvOut) + '\" download=\"'+grTitle+'.csv\">Download CSV</a>'\n",
       "    }\n",
       "    </script>\n",
       "</head>\n",
       "<body>\n",
       "    <div id=\"chart_div_2\"></div>\n",
       "    <div id=\"pic_div_2\"></div>\n",
       "    <div id=\"csvFileDl_2\"></div>\n",
       "</body>\n",
       "</html>\n"
      ],
      "text/plain": [
       "<IPython.core.display.HTML object>"
      ]
     },
     "metadata": {},
     "output_type": "display_data"
    }
   ],
   "source": [
    "fig1 = figure()\n",
    "fig1.plot_nb([1,2,3,4,5],[8,7,6,5,4])"
   ]
  },
  {
   "cell_type": "markdown",
   "metadata": {},
   "source": [
    "## Line Graph with Two Lines\n",
    "Another line graph, but with two dependent variables. Also customizing plot."
   ]
  },
  {
   "cell_type": "code",
   "execution_count": 3,
   "metadata": {
    "collapsed": false
   },
   "outputs": [
    {
     "data": {
      "text/html": [
       "\n",
       "<html>\n",
       "<head>\n",
       "    <script src=\"https://code.jquery.com/jquery-1.10.2.js\"></script>\n",
       "    <script type=\"text/javascript\">\n",
       "    $.getScript( \"https://www.gstatic.com/charts/loader.js\", function() {\n",
       "      if ((typeof google === 'undefined') || (typeof google.visualization === 'undefined')) \n",
       "      {\n",
       "         google.charts.load('current', {'packages':['corechart']});\n",
       "      }\n",
       "\n",
       "      google.charts.setOnLoadCallback(drawChart);\n",
       "    });\n",
       "    \n",
       "    function drawChart() {\n",
       "        var dataArr = [['Days', 'data1', 'data2'], ['Mon', 5, 4], ['Tues', 8, 7], ['Wed', 4, 8], ['Thurs', 10, 10], ['Fri', 3, 12]];\n",
       "        var grTitle = 'Two lines';\n",
       "        var height = 600;\n",
       "        var width = 600;\n",
       "        var logScaleFlag = false;\n",
       "        var vAxisTitle = 'Count';\n",
       "        var vAxisOpt;\n",
       "        if(logScaleFlag)\n",
       "        {\n",
       "            vAxisOpt = { title: vAxisTitle, logScale: true, format: 'scientific'};\n",
       "        }\n",
       "        else\n",
       "        {\n",
       "            vAxisOpt = { title: vAxisTitle };\n",
       "        }\n",
       "\n",
       "        var options = {\n",
       "            width: width,\n",
       "            height: height,\n",
       "            explorer: { actions: ['dragToZoom', 'rightClickToReset'], maxZoomIn: 0.01 },\n",
       "            curveType: 'function',\n",
       "            title: grTitle,\n",
       "            titleTextStyle: { fontSize: 18, bold: true },\n",
       "            hAxis: { title: dataArr[0][0] },\n",
       "            vAxis: vAxisOpt,\n",
       "            \n",
       "        };\n",
       "\n",
       "        var data = new google.visualization.DataTable();\n",
       "        var csvOut = \"data:text/csv;charset=utf-8\";\n",
       "        // Add column headers\n",
       "        data.addColumn('string',dataArr[0][0]);\n",
       "        csvOut += ',' + dataArr[0][0];\n",
       "        for (var j = 0; j < dataArr[0].length-1; j++)\n",
       "        {\n",
       "           data.addColumn('number',dataArr[0][j+1]);\n",
       "           csvOut += ',' + dataArr[0][j+1];\n",
       "        }\n",
       "        csvOut += '\\n';\n",
       "\n",
       "        // Add columns\n",
       "        for (var i = 1; i < dataArr.length; i++)\n",
       "        {\n",
       "            data.addRow(dataArr[i]);\n",
       "            csvOut += dataArr[i].join(\",\") + '\\n';\n",
       "        }\n",
       "\n",
       "        var chart = new google.visualization.LineChart(document.getElementById('chart_div_3'));\n",
       "\n",
       "        chart.draw(data, options);\n",
       "        document.getElementById('pic_div_3').innerHTML = '<a href=\"' + chart.getImageURI() + '\" download=\"'+grTitle+'.png\">Download Figure</a>'\n",
       "        document.getElementById('csvFileDl_3').innerHTML = '<a href=\"' + encodeURI(csvOut) + '\" download=\"'+grTitle+'.csv\">Download CSV</a>'\n",
       "    }\n",
       "    </script>\n",
       "</head>\n",
       "<body>\n",
       "    <div id=\"chart_div_3\"></div>\n",
       "    <div id=\"pic_div_3\"></div>\n",
       "    <div id=\"csvFileDl_3\"></div>\n",
       "</body>\n",
       "</html>\n"
      ],
      "text/plain": [
       "<IPython.core.display.HTML object>"
      ]
     },
     "metadata": {},
     "output_type": "display_data"
    }
   ],
   "source": [
    "fig2 = figure(title='Two lines',xlabel='Days',ylabel='Count',height=600,width=600)\n",
    "xVals = ['Mon','Tues','Wed','Thurs','Fri']\n",
    "yVals = [[5,4],[8,7],[4,8],[10,10],[3,12]]\n",
    "fig2.plot_nb(xVals,yVals)"
   ]
  },
  {
   "cell_type": "markdown",
   "metadata": {},
   "source": [
    "## DateTime Graph\n",
    "A graph with dates and times. Title is assigned afterwards, and data is given header information."
   ]
  },
  {
   "cell_type": "code",
   "execution_count": 4,
   "metadata": {
    "collapsed": false,
    "scrolled": true
   },
   "outputs": [],
   "source": [
    "fig3 = figure()\n",
    "fig3.title = 'Weather over Days'\n",
    "fig3.ylabel = 'Temperature'\n",
    "#modify size of graph\n",
    "fig3.height = 800\n",
    "fig3.width = 1000"
   ]
  },
  {
   "cell_type": "markdown",
   "metadata": {},
   "source": [
    "X datetime data can take either of the following formats: \"yyyy-mm-dd HH:MM:SS\" or \"yyyy-mm-dd\", but be consistent."
   ]
  },
  {
   "cell_type": "code",
   "execution_count": 5,
   "metadata": {
    "collapsed": false
   },
   "outputs": [
    {
     "data": {
      "text/html": [
       "\n",
       "<html>\n",
       "<head>\n",
       "    <script src=\"https://code.jquery.com/jquery-1.10.2.js\"></script>\n",
       "    <script type=\"text/javascript\">\n",
       "    $.getScript( \"https://www.gstatic.com/charts/loader.js\", function() {\n",
       "      if ((typeof google === 'undefined') || (typeof google.visualization === 'undefined')) \n",
       "      {\n",
       "         google.charts.load('current', {'packages':['corechart']});\n",
       "      }\n",
       "\n",
       "      google.charts.setOnLoadCallback(drawChart);\n",
       "    });\n",
       "    \n",
       "    function drawChart() {\n",
       "        var dataArr = [['Dates', 'Shakuras', 'Korhal', 'Aiur'], ['2016-03-20 00:00:00', 10, 30, 40], ['2016-03-21 00:00:00', 12, 28, 41], ['2016-03-25 00:00:00', 15, 34, 38], ['2016-04-01 00:00:00', 8, 33, 47]];\n",
       "        var grTitle = 'Weather over Days';\n",
       "        var height = 800;\n",
       "        var width = 1000;\n",
       "        var logScaleFlag = false;\n",
       "        var vAxisTitle = 'Temperature';\n",
       "        var vAxisOpt;\n",
       "        if(logScaleFlag)\n",
       "        {\n",
       "            vAxisOpt = { title: vAxisTitle, logScale: true, format: 'scientific'};\n",
       "        }\n",
       "        else\n",
       "        {\n",
       "            vAxisOpt = { title: vAxisTitle };\n",
       "        }\n",
       "\n",
       "        var options = {\n",
       "            width: width,\n",
       "            height: height,\n",
       "            explorer: { actions: ['dragToZoom', 'rightClickToReset'], maxZoomIn: 0.01 },\n",
       "            curveType: 'function',\n",
       "            title: grTitle,\n",
       "            titleTextStyle: { fontSize: 18, bold: true },\n",
       "            hAxis: { title: dataArr[0][0],\n",
       "               \"gridlines\": {\n",
       "                  \"count\": -1,\n",
       "                  \"units\": {\n",
       "                  \"minutes\": { \"format\": [ \"HH:mm\", \"mm\" ] },\n",
       "                  \"hours\": { \"format\": [ \"MM/dd HH:mm\", \"HH\" ] },\n",
       "                  \"days\": { \"format\": [ \"MM/dd\" ] },\n",
       "                  }\n",
       "               },\n",
       "               \"minorGridlines\": {\n",
       "                  \"count\": -1,\n",
       "                  \"units\": {\n",
       "                  \"minutes\": { \"format\": [ \"HH:mm\", \"mm\" ] },\n",
       "                  \"hours\": { \"format\": [ \"MM/dd HH:mm\", \"HH\" ] },\n",
       "                  \"days\": { \"format\": [ \"MM/dd\" ] },\n",
       "                  }\n",
       "               },\n",
       "            },\n",
       "            vAxis: vAxisOpt,\n",
       "            \n",
       "         };\n",
       "\n",
       "         var data = new google.visualization.DataTable();\n",
       "         var csvOut = \"data:text/csv;charset=utf-8\";\n",
       "         // Add column headers\n",
       "         data.addColumn('date',dataArr[0][0]);\n",
       "         csvOut += ',' + dataArr[0][0];\n",
       "         for (var j = 0; j < dataArr[0].length-1; j++)\n",
       "         {\n",
       "            data.addColumn('number',dataArr[0][j+1]);\n",
       "            csvOut += ',' + dataArr[0][j+1];\n",
       "         }\n",
       "         csvOut += '\\n';\n",
       "\n",
       "         var tmpArr;\n",
       "         // Add columns\n",
       "         for (var i = 0; i < dataArr.length-1; i++)\n",
       "         {\n",
       "            // Add time data\n",
       "            tempStr = dataArr[i+1][0];\n",
       "            year = parseInt(tempStr.substr(0,4));\n",
       "            month = parseInt(tempStr.substr(5,2))-1;\n",
       "            day = parseInt(tempStr.substr(8,2));\n",
       "            hour = parseInt(tempStr.substr(11,2));\n",
       "            minute = parseInt(tempStr.substr(14,2));\n",
       "            second = parseInt(tempStr.substr(17,2));\n",
       "            tmpArr = [new Date(year,month,day,hour,minute,second)];\n",
       "\n",
       "            data.addRow(tmpArr.concat(dataArr[i+1].slice(1,dataArr[i+1].length)));\n",
       "            csvOut += tempStr + ',' + dataArr[i+1].slice(1,dataArr[i+1].length).join(\",\") + '\\n';\n",
       "        }\n",
       "\n",
       "        var chart = new google.visualization.LineChart(document.getElementById('chart_div_4'));\n",
       "\n",
       "        chart.draw(data, options);\n",
       "        document.getElementById('pic_div_4').innerHTML = '<a href=\"' + chart.getImageURI() + '\" download=\"'+grTitle+'.png\">Download Figure</a>'\n",
       "        document.getElementById('csvFileDl_4').innerHTML = '<a href=\"' + encodeURI(csvOut) + '\" download=\"'+grTitle+'.csv\">Download CSV</a>'\n",
       "    }\n",
       "    </script>\n",
       "</head>\n",
       "<body>\n",
       "    <div id=\"chart_div_4\"></div>\n",
       "    <div id=\"pic_div_4\"></div>\n",
       "    <div id=\"csvFileDl_4\"></div>\n",
       "</body>\n",
       "</html>\n"
      ],
      "text/plain": [
       "<IPython.core.display.HTML object>"
      ]
     },
     "metadata": {},
     "output_type": "display_data"
    }
   ],
   "source": [
    "#xVals = ['Dates','2016-03-20 00:00:00','2016-03-21 00:00:00','2016-03-25 00:00:00','2016-04-01 00:00:00']\n",
    "xVals = ['Dates','2016-03-20','2016-03-21','2016-03-25','2016-04-01']\n",
    "yVals = [['Shakuras','Korhal','Aiur'],[10,30,40],[12,28,41],[15,34,38],[8,33,47]]\n",
    "fig3.plot_nb(xVals,yVals)"
   ]
  },
  {
   "cell_type": "markdown",
   "metadata": {},
   "source": [
    "## A Log Scale Example\n",
    "Set \"logScale=True\" when calling plot (or plot_nb for notebooks) to plot the y axis in log scale."
   ]
  },
  {
   "cell_type": "code",
   "execution_count": 6,
   "metadata": {
    "collapsed": false
   },
   "outputs": [
    {
     "data": {
      "text/html": [
       "\n",
       "<html>\n",
       "<head>\n",
       "    <script src=\"https://code.jquery.com/jquery-1.10.2.js\"></script>\n",
       "    <script type=\"text/javascript\">\n",
       "    $.getScript( \"https://www.gstatic.com/charts/loader.js\", function() {\n",
       "      if ((typeof google === 'undefined') || (typeof google.visualization === 'undefined')) \n",
       "      {\n",
       "         google.charts.load('current', {'packages':['corechart']});\n",
       "      }\n",
       "\n",
       "      google.charts.setOnLoadCallback(drawChart);\n",
       "    });\n",
       "    \n",
       "    function drawChart() {\n",
       "        var dataArr = [['Year', 'Gotham City', 'Central City'], [1700, 0, 10], [1800, 100, 200], [1900, 100000, 500000], [2000, 5000000, 10000000]];\n",
       "        var grTitle = 'Population Growth';\n",
       "        var height = 600;\n",
       "        var width = 1000;\n",
       "        var logScaleFlag = true;\n",
       "        var vAxisTitle = 'Population';\n",
       "        var vAxisOpt;\n",
       "        if(logScaleFlag)\n",
       "        {\n",
       "            vAxisOpt = { title: vAxisTitle, logScale: true, format: 'scientific'};\n",
       "        }\n",
       "        else\n",
       "        {\n",
       "            vAxisOpt = { title: vAxisTitle };\n",
       "        }\n",
       "\n",
       "        var options = {\n",
       "            width: width,\n",
       "            height: height,\n",
       "            explorer: { actions: ['dragToZoom', 'rightClickToReset'], maxZoomIn: 0.01 },\n",
       "            curveType: 'function',\n",
       "            title: grTitle,\n",
       "            titleTextStyle: { fontSize: 18, bold: true },\n",
       "            hAxis: { title: dataArr[0][0] },\n",
       "            vAxis: vAxisOpt,\n",
       "            \n",
       "        };\n",
       "\n",
       "        var data = new google.visualization.DataTable();\n",
       "        var csvOut = \"data:text/csv;charset=utf-8\";\n",
       "        // Add column headers\n",
       "        for (var j = 0; j < dataArr[0].length; j++)\n",
       "        {\n",
       "            data.addColumn('number',dataArr[0][j]);\n",
       "            csvOut += ',' + dataArr[0][j];\n",
       "        }\n",
       "        csvOut += '\\n';\n",
       "\n",
       "        // Add columns\n",
       "        for (var i = 1; i < dataArr.length; i++)\n",
       "        {\n",
       "            data.addRow(dataArr[i]);\n",
       "            csvOut += dataArr[i].join(\",\") + '\\n';\n",
       "        }\n",
       "\n",
       "        var chart = new google.visualization.LineChart(document.getElementById('chart_div_5'));\n",
       "\n",
       "        chart.draw(data, options);\n",
       "        document.getElementById('pic_div_5').innerHTML = '<a href=\"' + chart.getImageURI() + '\" download=\"'+grTitle+'.png\">Download Figure</a>'\n",
       "        document.getElementById('csvFileDl_5').innerHTML = '<a href=\"' + encodeURI(csvOut) + '\" download=\"'+grTitle+'.csv\">Download CSV</a>'\n",
       "    }\n",
       "    </script>\n",
       "</head>\n",
       "<body>\n",
       "    <div id=\"chart_div_5\"></div>\n",
       "    <div id=\"pic_div_5\"></div>\n",
       "    <div id=\"csvFileDl_5\"></div>\n",
       "</body>\n",
       "</html>\n"
      ],
      "text/plain": [
       "<IPython.core.display.HTML object>"
      ]
     },
     "metadata": {},
     "output_type": "display_data"
    }
   ],
   "source": [
    "fig4 = figure(title='Population Growth',ylabel='Population')\n",
    "xVals = ['Year',1700,1800,1900,2000]\n",
    "yVals = [['Gotham City', 'Central City'],[0,10],[100,200],[100000,500000],[5000000,10000000]]\n",
    "fig4.plot_nb(xVals,yVals,logScale=True)"
   ]
  }
 ],
 "metadata": {
  "kernelspec": {
   "display_name": "Python 2",
   "language": "python",
   "name": "python2"
  },
  "language_info": {
   "codemirror_mode": {
    "name": "ipython",
    "version": 2
   },
   "file_extension": ".py",
   "mimetype": "text/x-python",
   "name": "python",
   "nbconvert_exporter": "python",
   "pygments_lexer": "ipython2",
   "version": "2.7.6"
  }
 },
 "nbformat": 4,
 "nbformat_minor": 0
}
