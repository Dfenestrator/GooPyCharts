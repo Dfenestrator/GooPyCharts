{
 "cells": [
  {
   "cell_type": "markdown",
   "metadata": {},
   "source": [
    "# GooPyCharts Demo Notebook\n",
    "## Import GooPyCharts\n",
    "To cut down on syntax, import figure directly."
   ]
  },
  {
   "cell_type": "code",
   "execution_count": 1,
   "metadata": {
    "collapsed": true
   },
   "outputs": [],
   "source": [
    "from gpcharts import figure"
   ]
  },
  {
   "cell_type": "markdown",
   "metadata": {},
   "source": [
    "## Simple Line Graph\n",
    "Same graph as described in the readme."
   ]
  },
  {
   "cell_type": "code",
   "execution_count": 2,
   "metadata": {
    "collapsed": false,
    "scrolled": true
   },
   "source": [
    "fig1 = figure()\n",
    "fig1.plot_nb([1,2,3,4,5],[8,7,6,5,4])"
   ]
  },
  {
   "cell_type": "markdown",
   "metadata": {},
   "source": [
    "## Line Graph with Two Lines\n",
    "Another line graph, but with two dependent variables. Also customizing plot."
   ]
  },
  {
   "cell_type": "code",
   "execution_count": 3,
   "metadata": {
    "collapsed": false
   },
   "source": [
    "fig2 = figure(title='Two lines',xlabel='Days',ylabel='Count',height=600,width=600)\n",
    "xVals = ['Mon','Tues','Wed','Thurs','Fri']\n",
    "yVals = [[5,4],[8,7],[4,8],[10,10],[3,12]]\n",
    "fig2.plot_nb(xVals,yVals)"
   ]
  },
  {
   "cell_type": "markdown",
   "metadata": {},
   "source": [
    "## DateTime Graph\n",
    "A graph with dates and times. Title is assigned afterwards, and data is given header information."
   ]
  },
  {
   "cell_type": "code",
   "execution_count": 4,
   "metadata": {
    "collapsed": false,
    "scrolled": true
   },
   "source": [
    "fig3 = figure()\n",
    "fig3.title = 'Weather over Days'\n",
    "fig3.ylabel = 'Temperature'\n",
    "#modify size of graph\n",
    "fig3.height = 800\n",
    "fig3.width = 1000"
   ]
  },
  {
   "cell_type": "markdown",
   "metadata": {},
   "source": [
    "X datetime data can take either of the following formats: \"yyyy-mm-dd HH:MM:SS\" or \"yyyy-mm-dd\", but be consistent."
   ]
  },
  {
   "cell_type": "code",
   "execution_count": 5,
   "metadata": {
    "collapsed": false
   },
   "source": [
    "#xVals = ['Dates','2016-03-20 00:00:00','2016-03-21 00:00:00','2016-03-25 00:00:00','2016-04-01 00:00:00']\n",
    "xVals = ['Dates','2016-03-20','2016-03-21','2016-03-25','2016-04-01']\n",
    "yVals = [['Shakuras','Korhal','Aiur'],[10,30,40],[12,28,41],[15,34,38],[8,33,47]]\n",
    "fig3.plot_nb(xVals,yVals)"
   ]
  },
  {
   "cell_type": "markdown",
   "metadata": {},
   "source": [
    "## A Log Scale Example\n",
    "Set \"logScale=True\" when calling plot (or plot_nb for notebooks) to plot the y axis in log scale."
   ]
  },
  {
   "cell_type": "code",
   "execution_count": 6,
   "metadata": {
    "collapsed": false
   },
   "source": [
    "fig4 = figure(title='Population Growth',ylabel='Population')\n",
    "xVals = ['Year',1700,1800,1900,2000]\n",
    "yVals = [['Gotham City', 'Central City'],[0,10],[100,200],[100000,500000],[5000000,10000000]]\n",
    "fig4.plot_nb(xVals,yVals,logScale=True)"
   ]
  }
 ],
 "metadata": {
  "kernelspec": {
   "display_name": "Python 2",
   "language": "python",
   "name": "python2"
  },
  "language_info": {
   "codemirror_mode": {
    "name": "ipython",
    "version": 2
   },
   "file_extension": ".py",
   "mimetype": "text/x-python",
   "name": "python",
   "nbconvert_exporter": "python",
   "pygments_lexer": "ipython2",
   "version": "2.7.6"
  }
 },
 "nbformat": 4,
 "nbformat_minor": 0
}
