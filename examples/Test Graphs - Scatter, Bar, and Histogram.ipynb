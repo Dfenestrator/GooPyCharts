{
 "cells": [
  {
   "cell_type": "markdown",
   "metadata": {},
   "source": [
    "# GooPyCharts Demo Notebook\n",
    "## Import GooPyCharts\n",
    "To cut down on syntax, import figure directly."
   ]
  },
  {
   "cell_type": "code",
   "execution_count": 3,
   "metadata": {
    "collapsed": false
   },
   "outputs": [],
   "source": [
    "from gpcharts import figure"
   ]
  },
  {
   "cell_type": "markdown",
   "metadata": {},
   "source": [
    "## Scatter Plot\n",
    "Scatter plot arguments are the same as for normal line graph arguments, but use \"scatter\" (or \"scatter_nb\" for notebooks) to plot instead. Scatter plots also support trend lines. Set \"trendline=True\" in the arguments to get a trendline on your graph. Currently only a trendline for the first dependent variable is supported."
   ]
  },
  {
   "cell_type": "code",
   "execution_count": 4,
   "metadata": {
    "collapsed": false,
    "scrolled": false
   },
   "source": [
    "fig5 = figure('Strong Correlation')\n",
    "fig5.scatter_nb([1,2,3,4,5],[[1,5],[2,4],[3,3],[4,2],[5,1]],trendline=True)"
   ]
  },
  {
   "cell_type": "markdown",
   "metadata": {},
   "source": [
    "## Bar Graph\n",
    "Simple horizontal bar graphs are supported. Use function \"bar\" (or \"bar_nb\" for notebooks)."
   ]
  },
  {
   "cell_type": "code",
   "execution_count": 5,
   "metadata": {
    "collapsed": false
   },
   "source": [
    "fig6 = figure('Percent Alcohol Consumption')\n",
    "fig6.bar_nb(['Percentage','Beer','Wine','Liquor'],['Type',40,50,10])"
   ]
  },
  {
   "cell_type": "markdown",
   "metadata": {},
   "source": [
    "## Histogram\n",
    "Simple histograms are also supported. Histograms take in 1 list of input. Use function \"hist\" (or \"hist_nb\" for notebooks)."
   ]
  },
  {
   "cell_type": "code",
   "execution_count": 6,
   "metadata": {
    "collapsed": false
   },
   "source": [
    "fig7 = figure('Distribution',xlabel='value')\n",
    "fig7.hist_nb([1,1,1,1,1,1,1,1,1,1,1,2,2,2,2,2,2,2,3,3,3,3,4,4,5,6,7,8,8,8,8,8,9,9,9,10,11,12,13,13,13,13,14])"
   ]
  }
 ],
 "metadata": {
  "kernelspec": {
   "display_name": "Python 2",
   "language": "python",
   "name": "python2"
  },
  "language_info": {
   "codemirror_mode": {
    "name": "ipython",
    "version": 2
   },
   "file_extension": ".py",
   "mimetype": "text/x-python",
   "name": "python",
   "nbconvert_exporter": "python",
   "pygments_lexer": "ipython2",
   "version": "2.7.6"
  }
 },
 "nbformat": 4,
 "nbformat_minor": 0
}
